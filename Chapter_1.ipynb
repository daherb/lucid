{
  "nbformat": 4,
  "nbformat_minor": 0,
  "metadata": {
    "colab": {
      "name": "Chapter 1.ipynb",
      "provenance": [],
      "collapsed_sections": [],
      "toc_visible": true,
      "authorship_tag": "ABX9TyPSFAgspiIQt1gG7+R7qh0j",
      "include_colab_link": true
    },
    "kernelspec": {
      "name": "python3",
      "display_name": "Python 3"
    }
  },
  "cells": [
    {
      "cell_type": "markdown",
      "metadata": {
        "id": "view-in-github",
        "colab_type": "text"
      },
      "source": [
        "<a href=\"https://colab.research.google.com/github/harisont/Beamer-mhthm/blob/master/Chapter_1.ipynb\" target=\"_parent\"><img src=\"https://colab.research.google.com/assets/colab-badge.svg\" alt=\"Open In Colab\"/></a>"
      ]
    },
    {
      "cell_type": "markdown",
      "metadata": {
        "id": "AXPN4e-tDvXG",
        "colab_type": "text"
      },
      "source": [
        "# Chapter 1: explore the parallel UD treebank (PUD)"
      ]
    },
    {
      "cell_type": "markdown",
      "metadata": {
        "id": "5ZiBX4g4ENnA",
        "colab_type": "text"
      },
      "source": [
        "## Question 4 \n",
        "\n",
        "First, we read the relevant data:"
      ]
    },
    {
      "cell_type": "code",
      "metadata": {
        "id": "KUqG2POuG0PO",
        "colab_type": "code",
        "colab": {}
      },
      "source": [
        "from pandas import read_csv # cause it's easier to abuse read_csv\n",
        "\n",
        "en_table = read_csv('en_pud-ud-test.conllu', sep=\"\\t\", comment=\"#\", usecols=[1,3,7], names=[\"token\", \"POS tag\", \"Dep. label\"])\n",
        "es_table = read_csv('es_pud-ud-test.conllu', sep=\"\\t\", comment=\"#\", usecols=[1,3,7], names=[\"token\", \"POS tag\", \"Dep. label\"])"
      ],
      "execution_count": 0,
      "outputs": []
    },
    {
      "cell_type": "code",
      "metadata": {
        "id": "hCBjkV39kJM3",
        "colab_type": "code",
        "colab": {
          "base_uri": "https://localhost:8080/",
          "height": 424
        },
        "outputId": "585c289f-c6f4-42dd-cc7b-517c3c0c953d"
      },
      "source": [
        "en_table"
      ],
      "execution_count": 10,
      "outputs": [
        {
          "output_type": "execute_result",
          "data": {
            "text/html": [
              "<div>\n",
              "<style scoped>\n",
              "    .dataframe tbody tr th:only-of-type {\n",
              "        vertical-align: middle;\n",
              "    }\n",
              "\n",
              "    .dataframe tbody tr th {\n",
              "        vertical-align: top;\n",
              "    }\n",
              "\n",
              "    .dataframe thead th {\n",
              "        text-align: right;\n",
              "    }\n",
              "</style>\n",
              "<table border=\"1\" class=\"dataframe\">\n",
              "  <thead>\n",
              "    <tr style=\"text-align: right;\">\n",
              "      <th></th>\n",
              "      <th>token</th>\n",
              "      <th>POS tag</th>\n",
              "      <th>Dep. label</th>\n",
              "    </tr>\n",
              "  </thead>\n",
              "  <tbody>\n",
              "    <tr>\n",
              "      <th>0</th>\n",
              "      <td>“</td>\n",
              "      <td>PUNCT</td>\n",
              "      <td>punct</td>\n",
              "    </tr>\n",
              "    <tr>\n",
              "      <th>1</th>\n",
              "      <td>While</td>\n",
              "      <td>SCONJ</td>\n",
              "      <td>mark</td>\n",
              "    </tr>\n",
              "    <tr>\n",
              "      <th>2</th>\n",
              "      <td>much</td>\n",
              "      <td>ADJ</td>\n",
              "      <td>nsubj</td>\n",
              "    </tr>\n",
              "    <tr>\n",
              "      <th>3</th>\n",
              "      <td>of</td>\n",
              "      <td>ADP</td>\n",
              "      <td>case</td>\n",
              "    </tr>\n",
              "    <tr>\n",
              "      <th>4</th>\n",
              "      <td>the</td>\n",
              "      <td>DET</td>\n",
              "      <td>det</td>\n",
              "    </tr>\n",
              "    <tr>\n",
              "      <th>...</th>\n",
              "      <td>...</td>\n",
              "      <td>...</td>\n",
              "      <td>...</td>\n",
              "    </tr>\n",
              "    <tr>\n",
              "      <th>21178</th>\n",
              "      <td>a</td>\n",
              "      <td>DET</td>\n",
              "      <td>det</td>\n",
              "    </tr>\n",
              "    <tr>\n",
              "      <th>21179</th>\n",
              "      <td>friend</td>\n",
              "      <td>NOUN</td>\n",
              "      <td>xcomp</td>\n",
              "    </tr>\n",
              "    <tr>\n",
              "      <th>21180</th>\n",
              "      <td>of</td>\n",
              "      <td>ADP</td>\n",
              "      <td>case</td>\n",
              "    </tr>\n",
              "    <tr>\n",
              "      <th>21181</th>\n",
              "      <td>peace</td>\n",
              "      <td>NOUN</td>\n",
              "      <td>nmod</td>\n",
              "    </tr>\n",
              "    <tr>\n",
              "      <th>21182</th>\n",
              "      <td>.</td>\n",
              "      <td>PUNCT</td>\n",
              "      <td>punct</td>\n",
              "    </tr>\n",
              "  </tbody>\n",
              "</table>\n",
              "<p>21183 rows × 3 columns</p>\n",
              "</div>"
            ],
            "text/plain": [
              "        token POS tag Dep. label\n",
              "0           “   PUNCT      punct\n",
              "1       While   SCONJ       mark\n",
              "2        much     ADJ      nsubj\n",
              "3          of     ADP       case\n",
              "4         the     DET        det\n",
              "...       ...     ...        ...\n",
              "21178       a     DET        det\n",
              "21179  friend    NOUN      xcomp\n",
              "21180      of     ADP       case\n",
              "21181   peace    NOUN       nmod\n",
              "21182       .   PUNCT      punct\n",
              "\n",
              "[21183 rows x 3 columns]"
            ]
          },
          "metadata": {
            "tags": []
          },
          "execution_count": 10
        }
      ]
    },
    {
      "cell_type": "code",
      "metadata": {
        "id": "CetDTtUUkKk9",
        "colab_type": "code",
        "colab": {
          "base_uri": "https://localhost:8080/",
          "height": 424
        },
        "outputId": "90d5bee7-dafd-4a04-f8ca-228294062d89"
      },
      "source": [
        "es_table"
      ],
      "execution_count": 11,
      "outputs": [
        {
          "output_type": "execute_result",
          "data": {
            "text/html": [
              "<div>\n",
              "<style scoped>\n",
              "    .dataframe tbody tr th:only-of-type {\n",
              "        vertical-align: middle;\n",
              "    }\n",
              "\n",
              "    .dataframe tbody tr th {\n",
              "        vertical-align: top;\n",
              "    }\n",
              "\n",
              "    .dataframe thead th {\n",
              "        text-align: right;\n",
              "    }\n",
              "</style>\n",
              "<table border=\"1\" class=\"dataframe\">\n",
              "  <thead>\n",
              "    <tr style=\"text-align: right;\">\n",
              "      <th></th>\n",
              "      <th>token</th>\n",
              "      <th>POS tag</th>\n",
              "      <th>Dep. label</th>\n",
              "    </tr>\n",
              "  </thead>\n",
              "  <tbody>\n",
              "    <tr>\n",
              "      <th>0</th>\n",
              "      <td>Aunque</td>\n",
              "      <td>ADP</td>\n",
              "      <td>mark</td>\n",
              "    </tr>\n",
              "    <tr>\n",
              "      <th>1</th>\n",
              "      <td>no</td>\n",
              "      <td>ADV</td>\n",
              "      <td>advmod</td>\n",
              "    </tr>\n",
              "    <tr>\n",
              "      <th>2</th>\n",
              "      <td>haya</td>\n",
              "      <td>VERB</td>\n",
              "      <td>advcl</td>\n",
              "    </tr>\n",
              "    <tr>\n",
              "      <th>3</th>\n",
              "      <td>precedentes</td>\n",
              "      <td>NOUN</td>\n",
              "      <td>obj</td>\n",
              "    </tr>\n",
              "    <tr>\n",
              "      <th>4</th>\n",
              "      <td>para</td>\n",
              "      <td>ADP</td>\n",
              "      <td>case</td>\n",
              "    </tr>\n",
              "    <tr>\n",
              "      <th>...</th>\n",
              "      <td>...</td>\n",
              "      <td>...</td>\n",
              "      <td>...</td>\n",
              "    </tr>\n",
              "    <tr>\n",
              "      <th>23300</th>\n",
              "      <td>amigo</td>\n",
              "      <td>NOUN</td>\n",
              "      <td>acl:relcl</td>\n",
              "    </tr>\n",
              "    <tr>\n",
              "      <th>23301</th>\n",
              "      <td>de</td>\n",
              "      <td>ADP</td>\n",
              "      <td>case</td>\n",
              "    </tr>\n",
              "    <tr>\n",
              "      <th>23302</th>\n",
              "      <td>la</td>\n",
              "      <td>DET</td>\n",
              "      <td>det</td>\n",
              "    </tr>\n",
              "    <tr>\n",
              "      <th>23303</th>\n",
              "      <td>paz</td>\n",
              "      <td>NOUN</td>\n",
              "      <td>nmod</td>\n",
              "    </tr>\n",
              "    <tr>\n",
              "      <th>23304</th>\n",
              "      <td>.</td>\n",
              "      <td>PUNCT</td>\n",
              "      <td>punct</td>\n",
              "    </tr>\n",
              "  </tbody>\n",
              "</table>\n",
              "<p>23305 rows × 3 columns</p>\n",
              "</div>"
            ],
            "text/plain": [
              "             token POS tag Dep. label\n",
              "0           Aunque     ADP       mark\n",
              "1               no     ADV     advmod\n",
              "2             haya    VERB      advcl\n",
              "3      precedentes    NOUN        obj\n",
              "4             para     ADP       case\n",
              "...            ...     ...        ...\n",
              "23300        amigo    NOUN  acl:relcl\n",
              "23301           de     ADP       case\n",
              "23302           la     DET        det\n",
              "23303          paz    NOUN       nmod\n",
              "23304            .   PUNCT      punct\n",
              "\n",
              "[23305 rows x 3 columns]"
            ]
          },
          "metadata": {
            "tags": []
          },
          "execution_count": 11
        }
      ]
    },
    {
      "cell_type": "markdown",
      "metadata": {
        "id": "eQgK-JpDblkZ",
        "colab_type": "text"
      },
      "source": [
        "We then get the top 10 tags and dependency labels and their number of occurrences."
      ]
    },
    {
      "cell_type": "code",
      "metadata": {
        "id": "jx4LCyhjVLVG",
        "colab_type": "code",
        "colab": {}
      },
      "source": [
        "from nltk import FreqDist\n",
        "\n",
        "def top10(col):\n",
        "  return FreqDist(col).most_common(10)\n",
        "\n",
        "top10_en_tags = top10(en_table[\"POS tag\"])\n",
        "top10_es_tags = top10(es_table[\"POS tag\"])\n",
        "top10_en_deps = top10(en_table[\"Dep. label\"])\n",
        "top10_es_deps = top10(es_table[\"Dep. label\"])"
      ],
      "execution_count": 0,
      "outputs": []
    },
    {
      "cell_type": "code",
      "metadata": {
        "id": "DCyikdHVWhGP",
        "colab_type": "code",
        "colab": {}
      },
      "source": [
        "def print_sidebyside(top10en, top10es):\n",
        "  fmt = '{:<5}{:<20}{}'\n",
        "  print(fmt.format('', 'English', 'Spanish'))\n",
        "  for i, (p1, p2) in enumerate(zip(top10en, top10es)):\n",
        "      print(fmt.format(i + 1, str(p1), str(p2)))"
      ],
      "execution_count": 0,
      "outputs": []
    },
    {
      "cell_type": "markdown",
      "metadata": {
        "id": "vavpa1DXcumj",
        "colab_type": "text"
      },
      "source": [
        "As shown below, in both treebanks `NOUN` and `ADP` are respectively the first and second most frequent POS, but the number of adpositions in Spanish is way bigger than it is with respects to English. This is not surprising, since, for instance, there are many verbs that are directly followed by the objet in English but require a preposition in Spanish (e.g. _dream_ vs _soñar con_).\n",
        "\n",
        "Unlike in Spanish, the third most frequent tag in the English is `PUNCT`, indicating that English sentences and clauses are generally shorter than their Spanish counterparts.\n",
        "\n",
        "Another way in which the two languages differ significantly is the amount of determiners. This may be due to the fact that in English it is more common to omit articles, for instance in sentences like \"Children should go to the park every day\" (where we say something about children in general), which can be translated to Spanish as \"_Los_ niños tendrìan que ir al parque todos los días\".\n",
        "\n",
        "At a higher level, however, the fact that the 10 most common POS are the same in both treebanks highlights the fact that, even though morphologically very different, English and Spanish do have some similarities."
      ]
    },
    {
      "cell_type": "code",
      "metadata": {
        "id": "K09_ITN6bORn",
        "colab_type": "code",
        "colab": {
          "base_uri": "https://localhost:8080/",
          "height": 208
        },
        "outputId": "fe28eb7a-540a-4162-965b-6bcb11b9cc4b"
      },
      "source": [
        "print_sidebyside(top10_en_tags, top10_es_tags)"
      ],
      "execution_count": 14,
      "outputs": [
        {
          "output_type": "stream",
          "text": [
            "     English             Spanish\n",
            "1    ('NOUN', 4040)      ('NOUN', 4721)\n",
            "2    ('ADP', 2493)       ('ADP', 4167)\n",
            "3    ('PUNCT', 2301)     ('DET', 3260)\n",
            "4    ('VERB', 2156)      ('PUNCT', 2216)\n",
            "5    ('DET', 2086)       ('VERB', 2115)\n",
            "6    ('PROPN', 1727)     ('ADJ', 1434)\n",
            "7    ('ADJ', 1540)       ('PROPN', 1220)\n",
            "8    ('PRON', 1021)      ('PRON', 1035)\n",
            "9    ('AUX', 1014)       ('ADV', 895)\n",
            "10   ('ADV', 849)        ('AUX', 735)\n"
          ],
          "name": "stdout"
        }
      ]
    },
    {
      "cell_type": "markdown",
      "metadata": {
        "id": "pj_h0ExBj9ul",
        "colab_type": "text"
      },
      "source": [
        "When it comes to dependency labels, again we see that the top 10 for English, disregarding the order, is the same as the top 10 for Spanish, confirming the syntactic similarities between the two languages.\n",
        "\n",
        "In many ways - for instance with respect to `det` and `punct` - these statistics \"match\" those regarding POS tags.\n",
        "\n",
        "Apart from this, the two languages seem to differ significantly in terms of number of `nsubj`, `nmod` and `amod` relations. The fact that English has more `nsubj` relations seems to suggest that seems to suggest that English sentences are divided into more clauses, each with its own syntactic subject. With respect to modifiers, it seems that some Spanish nominal modifiers are expressed as adjectival modifiers in English and/or vice versa."
      ]
    },
    {
      "cell_type": "code",
      "metadata": {
        "id": "yX5dpoywbPvt",
        "colab_type": "code",
        "colab": {
          "base_uri": "https://localhost:8080/",
          "height": 208
        },
        "outputId": "2e18b13e-5d8e-4d22-fc65-a4aee783671a"
      },
      "source": [
        "print_sidebyside(top10_en_deps, top10_es_deps)"
      ],
      "execution_count": 15,
      "outputs": [
        {
          "output_type": "stream",
          "text": [
            "     English             Spanish\n",
            "1    ('case', 2499)      ('case', 3648)\n",
            "2    ('punct', 2301)     ('det', 3425)\n",
            "3    ('det', 2047)       ('punct', 2216)\n",
            "4    ('nsubj', 1393)     ('nmod', 1766)\n",
            "5    ('amod', 1336)      ('obl', 1521)\n",
            "6    ('obl', 1237)       ('amod', 1276)\n",
            "7    ('nmod', 1076)      ('nsubj', 1168)\n",
            "8    ('root', 1000)      ('root', 996)\n",
            "9    ('obj', 876)        ('advmod', 829)\n",
            "10   ('advmod', 852)     ('obj', 773)\n"
          ],
          "name": "stdout"
        }
      ]
    },
    {
      "cell_type": "markdown",
      "metadata": {
        "id": "mgMMbm4RAiv2",
        "colab_type": "text"
      },
      "source": [
        "## Question 5\n",
        "\n",
        "![Question 5, part a](https://raw.githubusercontent.com/harisont/comp-syntax-2020/master/lab1/q5a.JPG)\n",
        "\n",
        "![Question 5, part b](https://raw.githubusercontent.com/harisont/comp-syntax-2020/master/lab1/q5b.JPG)"
      ]
    },
    {
      "cell_type": "markdown",
      "metadata": {
        "id": "cMZ5YiH3BB4_",
        "colab_type": "text"
      },
      "source": [
        "## Question 6\n",
        "\n",
        "![Question 6](https://raw.githubusercontent.com/harisont/comp-syntax-2020/master/lab1/q6.JPG)\n",
        "\n",
        "In terms of word order, this sentence shows that, while in English adjectives generally precede the nouns they refer to, in Spanish it is the opposite.\n",
        "\n",
        "Furthermore, the sentence contains an example of a phenomenon described in the above: in English, \"games\" has no determiner, while in Spanish it does.\n",
        "\n",
        "The other things that appear to be different are mostly due to the fact that the sentence is not translated literally."
      ]
    }
  ]
}